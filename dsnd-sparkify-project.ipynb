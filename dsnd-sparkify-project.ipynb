{
 "cells": [
  {
   "cell_type": "markdown",
   "metadata": {},
   "source": [
    "# Sparkify Project Workspace\n",
    "This workspace contains a tiny subset (128MB) of the full dataset available (12GB). Feel free to use this workspace to build your project, or to explore a smaller subset with Spark before deploying your cluster on the cloud. Instructions for setting up your Spark cluster is included in the last lesson of the Extracurricular Spark Course content.\n",
    "\n",
    "You can follow the steps below to guide your data analysis and model building portion of this project."
   ]
  },
  {
   "cell_type": "markdown",
   "metadata": {},
   "source": [
    "### Project Overview:\n",
    "Sparkify is digial music streaming provider similar to other popular music streaming providers like Spotify or Pandora.\n",
    "User can use Sparkify to play their favourite music either using free tier ( which has advertisemetns playing between songs ) or a paid subscription model. \n",
    "\n",
    "While users use Sparify to play their favourite music, different interactions which a user makes with Sparkify are captured as various events. \n",
    "Out of total users of Sparkify, some users do cancel their subscription ( called as Churn in this context) with Sparkify which means a possible business loss for Sparkify. And hence if there is a way to identify if a particular user is going to churn then an appropriate action can be initiated by Sparkify team to possibly avoid this churn and also avoiding potential business loss for Sparkify.\n",
    "\n",
    "In this project, we would try to evaluate if there is a way to make a prediction (using machine learning) about if a user may churn in future by analysing past interactions of users with Sparkify.     "
   ]
  },
  {
   "cell_type": "markdown",
   "metadata": {},
   "source": [
    "#### Problem statement\n",
    "Predicting if a user will churn or not for a digital music streaming company Sparkify by analysing interactions which a user would have had with Sparkify app"
   ]
  },
  {
   "cell_type": "markdown",
   "metadata": {},
   "source": [
    "#### Metrics: \n",
    "Considering it is a classification problem, metrics like accuracy , recall, precision and f1-score can be considered to evaluate model performance. Exact choice of metric to chose will be done post completing EDA for for features as well as output labels."
   ]
  },
  {
   "cell_type": "code",
   "execution_count": 1,
   "metadata": {},
   "outputs": [],
   "source": [
    "# import libraries\n",
    "import pyspark\n",
    "from pyspark.sql import SparkSession\n",
    "\n",
    "import datetime\n",
    "\n",
    "\n",
    "import pyspark.sql.functions as sf\n",
    "import pyspark.sql.types as st\n",
    "\n",
    "from pyspark.sql.functions import isnan\n",
    "\n",
    "from pyspark.ml.feature import VectorAssembler\n",
    "\n",
    "from pyspark.sql import Window\n",
    "from pyspark.sql.functions import desc\n",
    "from pyspark.sql.functions import sum as Fsum\n",
    "import pyspark.sql.functions as F\n",
    "\n",
    "from pyspark.ml.tuning import CrossValidator, ParamGridBuilder\n",
    "from pyspark.ml.evaluation import BinaryClassificationEvaluator\n",
    "from pyspark.ml.classification import LogisticRegression\n",
    "\n",
    "from pyspark.ml.classification import DecisionTreeClassifier, RandomForestClassifier, GBTClassifier\n",
    "from pyspark.ml.evaluation import MulticlassClassificationEvaluator\n",
    "\n",
    "import pandas as pd\n",
    "from time import time\n",
    "import re\n",
    "import numpy as np\n",
    "import scipy\n",
    "import pandas as pd\n",
    "import datetime\n",
    "import matplotlib.pyplot as plt\n",
    "from pandas.plotting import scatter_matrix\n",
    "import seaborn as sns\n",
    "import random\n",
    "%matplotlib inline"
   ]
  },
  {
   "cell_type": "code",
   "execution_count": 2,
   "metadata": {},
   "outputs": [],
   "source": [
    "# create a Spark session\n",
    "spark = SparkSession.builder.appName(\"Sparkify_Capstone_Project\").getOrCreate()"
   ]
  },
  {
   "cell_type": "markdown",
   "metadata": {},
   "source": [
    "# Load and Clean Dataset\n",
    "In this workspace, the mini-dataset file is `mini_sparkify_event_data.json`. Load and clean the dataset, checking for invalid or missing data - for example, records without userids or sessionids. "
   ]
  },
  {
   "cell_type": "code",
   "execution_count": 3,
   "metadata": {},
   "outputs": [],
   "source": [
    "#loading mini-dataset file\n",
    "d_path = './mini_sparkify_event_data.json'\n",
    "sprkfy_evnt_mn_data = spark.read.json(d_path)"
   ]
  },
  {
   "cell_type": "code",
   "execution_count": 4,
   "metadata": {},
   "outputs": [
    {
     "name": "stdout",
     "output_type": "stream",
     "text": [
      "+----------------+---------+---------+------+-------------+--------+---------+-----+--------------------+------+--------+-------------+---------+-----------------+------+-------------+--------------------+------+\n",
      "|          artist|     auth|firstName|gender|itemInSession|lastName|   length|level|            location|method|    page| registration|sessionId|             song|status|           ts|           userAgent|userId|\n",
      "+----------------+---------+---------+------+-------------+--------+---------+-----+--------------------+------+--------+-------------+---------+-----------------+------+-------------+--------------------+------+\n",
      "|  Martha Tilston|Logged In|    Colin|     M|           50| Freeman|277.89016| paid|     Bakersfield, CA|   PUT|NextSong|1538173362000|       29|        Rockpools|   200|1538352117000|Mozilla/5.0 (Wind...|    30|\n",
      "|Five Iron Frenzy|Logged In|    Micah|     M|           79|    Long|236.09424| free|Boston-Cambridge-...|   PUT|NextSong|1538331630000|        8|           Canada|   200|1538352180000|\"Mozilla/5.0 (Win...|     9|\n",
      "|    Adam Lambert|Logged In|    Colin|     M|           51| Freeman| 282.8273| paid|     Bakersfield, CA|   PUT|NextSong|1538173362000|       29|Time For Miracles|   200|1538352394000|Mozilla/5.0 (Wind...|    30|\n",
      "+----------------+---------+---------+------+-------------+--------+---------+-----+--------------------+------+--------+-------------+---------+-----------------+------+-------------+--------------------+------+\n",
      "only showing top 3 rows\n",
      "\n"
     ]
    }
   ],
   "source": [
    "#checking few entries from dataset\n",
    "sprkfy_evnt_mn_data.show(3)"
   ]
  },
  {
   "cell_type": "code",
   "execution_count": 5,
   "metadata": {},
   "outputs": [
    {
     "name": "stdout",
     "output_type": "stream",
     "text": [
      "root\n",
      " |-- artist: string (nullable = true)\n",
      " |-- auth: string (nullable = true)\n",
      " |-- firstName: string (nullable = true)\n",
      " |-- gender: string (nullable = true)\n",
      " |-- itemInSession: long (nullable = true)\n",
      " |-- lastName: string (nullable = true)\n",
      " |-- length: double (nullable = true)\n",
      " |-- level: string (nullable = true)\n",
      " |-- location: string (nullable = true)\n",
      " |-- method: string (nullable = true)\n",
      " |-- page: string (nullable = true)\n",
      " |-- registration: long (nullable = true)\n",
      " |-- sessionId: long (nullable = true)\n",
      " |-- song: string (nullable = true)\n",
      " |-- status: long (nullable = true)\n",
      " |-- ts: long (nullable = true)\n",
      " |-- userAgent: string (nullable = true)\n",
      " |-- userId: string (nullable = true)\n",
      "\n"
     ]
    }
   ],
   "source": [
    "#checking schema for datasets\n",
    "sprkfy_evnt_mn_data.printSchema()"
   ]
  },
  {
   "cell_type": "code",
   "execution_count": 6,
   "metadata": {},
   "outputs": [
    {
     "name": "stdout",
     "output_type": "stream",
     "text": [
      "total entries available in dataset 286500\n"
     ]
    }
   ],
   "source": [
    "#checking total entries available in dataset\n",
    "print('total entries available in dataset',sprkfy_evnt_mn_data.count())"
   ]
  },
  {
   "cell_type": "code",
   "execution_count": 7,
   "metadata": {},
   "outputs": [
    {
     "name": "stdout",
     "output_type": "stream",
     "text": [
      "Total Unique Entries for artist 17656\n",
      "Total Unique Entries for auth 4\n",
      "Total Unique Entries for firstName 190\n",
      "Total Unique Entries for gender 3\n",
      "Total Unique Entries for itemInSession 1322\n",
      "Total Unique Entries for lastName 174\n",
      "Total Unique Entries for length 14866\n",
      "Total Unique Entries for level 2\n",
      "Total Unique Entries for location 115\n",
      "Total Unique Entries for method 2\n",
      "Total Unique Entries for page 22\n",
      "Total Unique Entries for registration 226\n",
      "Total Unique Entries for sessionId 2354\n",
      "Total Unique Entries for song 58481\n",
      "Total Unique Entries for status 3\n",
      "Total Unique Entries for ts 277447\n",
      "Total Unique Entries for userAgent 57\n",
      "Total Unique Entries for userId 226\n"
     ]
    }
   ],
   "source": [
    "# Getting count of unique values in each of columns available in dataset\n",
    "data_clmns = sprkfy_evnt_mn_data.columns\n",
    "for i in data_clmns:\n",
    "    print('Total Unique Entries for',i,sprkfy_evnt_mn_data.select(i).dropDuplicates().count())"
   ]
  },
  {
   "cell_type": "code",
   "execution_count": 8,
   "metadata": {},
   "outputs": [
    {
     "name": "stdout",
     "output_type": "stream",
     "text": [
      "Checking Number of missing values:\n",
      "number of missing values in userId 8346\n",
      "number of missing values in sessionId 0\n"
     ]
    }
   ],
   "source": [
    "# Check the number of missing values in userId and sessionId\n",
    "print(\"Checking Number of missing values:\")\n",
    "for coln in ['userId', 'sessionId']:\n",
    "    missing_count = sprkfy_evnt_mn_data.filter((isnan(sprkfy_evnt_mn_data[coln])) | \\\n",
    "                                               (sprkfy_evnt_mn_data[coln].isNull()) | \\\n",
    "                                               (sprkfy_evnt_mn_data[coln] == \"\")).count()\n",
    "    print(f\"number of missing values in {coln}\", missing_count)"
   ]
  },
  {
   "cell_type": "markdown",
   "metadata": {},
   "source": [
    "We do see missing values for some userIDs. \n",
    "since we are trying to predict which userIds are going to churn, we cannot just replace missing values by 0.\n",
    "Instead, we need to understand about how & where do such missing values exist for UserIds.\n",
    "and basis that decide further course of action"
   ]
  },
  {
   "cell_type": "code",
   "execution_count": 9,
   "metadata": {},
   "outputs": [
    {
     "name": "stdout",
     "output_type": "stream",
     "text": [
      "+-------------------+\n",
      "|               page|\n",
      "+-------------------+\n",
      "|               Home|\n",
      "|              About|\n",
      "|Submit Registration|\n",
      "|              Login|\n",
      "|           Register|\n",
      "|               Help|\n",
      "|              Error|\n",
      "+-------------------+\n",
      "\n"
     ]
    }
   ],
   "source": [
    "#Checking type of pages where userId is null\n",
    "sprkfy_evnt_mn_data.select('page').where((sprkfy_evnt_mn_data.userId == '') | \\\n",
    "                                        (sprkfy_evnt_mn_data[coln].isNull()) | \\\n",
    "                                        (sprkfy_evnt_mn_data[coln] == \"\"))\\\n",
    "                                        .dropDuplicates().show(20)"
   ]
  },
  {
   "cell_type": "markdown",
   "metadata": {},
   "source": [
    "It seems that userIds with empty string either prior to sign-in or registration or in process of completing registration. Therefore, the rows corresponding to empty userIds can be dropped."
   ]
  },
  {
   "cell_type": "code",
   "execution_count": 10,
   "metadata": {},
   "outputs": [],
   "source": [
    "# Dropping entries which has userId as null\n",
    "sprkfy_evnt_mn_data = sprkfy_evnt_mn_data.filter(sprkfy_evnt_mn_data['userId'] != \"\")"
   ]
  },
  {
   "cell_type": "code",
   "execution_count": 11,
   "metadata": {},
   "outputs": [
    {
     "name": "stdout",
     "output_type": "stream",
     "text": [
      "Checking Number of missing values:\n",
      "number of missing values in userId 0\n",
      "number of missing values in sessionId 0\n"
     ]
    }
   ],
   "source": [
    "# Re-Check the number of missing values in userId\n",
    "print(\"Checking Number of missing values:\")\n",
    "for coln in ['userId', 'sessionId']:\n",
    "    missing_count = sprkfy_evnt_mn_data.filter((isnan(sprkfy_evnt_mn_data[coln])) | \\\n",
    "                                               (sprkfy_evnt_mn_data[coln].isNull()) | \\\n",
    "                                               (sprkfy_evnt_mn_data[coln] == \"\")).count()\n",
    "    print(f\"number of missing values in {coln}\", missing_count)"
   ]
  },
  {
   "cell_type": "code",
   "execution_count": null,
   "metadata": {},
   "outputs": [],
   "source": []
  },
  {
   "cell_type": "markdown",
   "metadata": {},
   "source": [
    "# Exploratory Data Analysis\n",
    "When you're working with the full dataset, perform EDA by loading a small subset of the data and doing basic manipulations within Spark. In this workspace, you are already provided a small subset of data you can explore.\n",
    "\n",
    "### Define Churn\n",
    "\n",
    "Once you've done some preliminary analysis, create a column `Churn` to use as the label for your model. I suggest using the `Cancellation Confirmation` events to define your churn, which happen for both paid and free users. As a bonus task, you can also look into the `Downgrade` events.\n",
    "\n",
    "### Explore Data\n",
    "Once you've defined churn, perform some exploratory data analysis to observe the behavior for users who stayed vs users who churned. You can start by exploring aggregates on these two groups of users, observing how much of a specific action they experienced per a certain time unit or number of songs played."
   ]
  },
  {
   "cell_type": "code",
   "execution_count": 12,
   "metadata": {},
   "outputs": [],
   "source": [
    "# Definining a column Churn\n",
    "sprkfy_evnt_mn_data_lbld = sprkfy_evnt_mn_data.withColumn('churn',sprkfy_evnt_mn_data.auth == 'Cancelled')\n",
    "\n",
    "sprkfy_evnt_mn_data_lbld  = sprkfy_evnt_mn_data_lbld.withColumn('churn1',sprkfy_evnt_mn_data_lbld.churn.cast('integer'))\n",
    "\n",
    "sprkfy_evnt_mn_data_lbld = sprkfy_evnt_mn_data_lbld.drop('churn')"
   ]
  },
  {
   "cell_type": "code",
   "execution_count": 13,
   "metadata": {},
   "outputs": [
    {
     "name": "stdout",
     "output_type": "stream",
     "text": [
      "+---------+------+\n",
      "|     auth| count|\n",
      "+---------+------+\n",
      "|Logged In|278102|\n",
      "|Cancelled|    52|\n",
      "+---------+------+\n",
      "\n",
      "+------+------+\n",
      "|gender| count|\n",
      "+------+------+\n",
      "|     F|154578|\n",
      "|     M|123576|\n",
      "+------+------+\n",
      "\n",
      "+-----+------+\n",
      "|level| count|\n",
      "+-----+------+\n",
      "| paid|222433|\n",
      "| free| 55721|\n",
      "+-----+------+\n",
      "\n",
      "+--------------------+-----+\n",
      "|            location|count|\n",
      "+--------------------+-----+\n",
      "|Los Angeles-Long ...|30131|\n",
      "|New York-Newark-J...|23684|\n",
      "|Boston-Cambridge-...|13873|\n",
      "|Houston-The Woodl...| 9499|\n",
      "|Charlotte-Concord...| 7780|\n",
      "|Dallas-Fort Worth...| 7605|\n",
      "|Louisville/Jeffer...| 6880|\n",
      "|Philadelphia-Camd...| 5890|\n",
      "|Chicago-Napervill...| 5114|\n",
      "|    St. Louis, MO-IL| 4858|\n",
      "|Phoenix-Mesa-Scot...| 4846|\n",
      "|Vineland-Bridgeto...| 4825|\n",
      "|          Wilson, NC| 4659|\n",
      "|Denver-Aurora-Lak...| 4453|\n",
      "|           Ionia, MI| 4428|\n",
      "|San Antonio-New B...| 4373|\n",
      "|        Danville, VA| 4257|\n",
      "|Atlanta-Sandy Spr...| 4236|\n",
      "|New Haven-Milford...| 4007|\n",
      "|         Jackson, MS| 3839|\n",
      "+--------------------+-----+\n",
      "only showing top 20 rows\n",
      "\n",
      "+------+------+\n",
      "|method| count|\n",
      "+------+------+\n",
      "|   PUT|257818|\n",
      "|   GET| 20336|\n",
      "+------+------+\n",
      "\n",
      "+--------------------+------+\n",
      "|                page| count|\n",
      "+--------------------+------+\n",
      "|            NextSong|228108|\n",
      "|           Thumbs Up| 12551|\n",
      "|                Home| 10082|\n",
      "|     Add to Playlist|  6526|\n",
      "|          Add Friend|  4277|\n",
      "|         Roll Advert|  3933|\n",
      "|              Logout|  3226|\n",
      "|         Thumbs Down|  2546|\n",
      "|           Downgrade|  2055|\n",
      "|            Settings|  1514|\n",
      "|                Help|  1454|\n",
      "|             Upgrade|   499|\n",
      "|               About|   495|\n",
      "|       Save Settings|   310|\n",
      "|               Error|   252|\n",
      "|      Submit Upgrade|   159|\n",
      "|    Submit Downgrade|    63|\n",
      "|              Cancel|    52|\n",
      "|Cancellation Conf...|    52|\n",
      "+--------------------+------+\n",
      "\n",
      "+--------------------+-----+\n",
      "|                song|count|\n",
      "+--------------------+-----+\n",
      "|                null|50046|\n",
      "|      You're The One| 1153|\n",
      "|                Undo| 1026|\n",
      "|             Revelry|  854|\n",
      "|       Sehr kosmisch|  728|\n",
      "|Horn Concerto No....|  641|\n",
      "|Dog Days Are Over...|  574|\n",
      "|             Secrets|  466|\n",
      "|        Use Somebody|  459|\n",
      "|              Canada|  435|\n",
      "|             Invalid|  424|\n",
      "|    Ain't Misbehavin|  409|\n",
      "|       ReprÃÂ©sente|  393|\n",
      "|SinceritÃÂ© Et J...|  384|\n",
      "|Catch You Baby (S...|  373|\n",
      "|              Yellow|  343|\n",
      "|    Somebody To Love|  343|\n",
      "|    Hey_ Soul Sister|  334|\n",
      "|            The Gift|  327|\n",
      "|           Fireflies|  312|\n",
      "+--------------------+-----+\n",
      "only showing top 20 rows\n",
      "\n",
      "+------+------+\n",
      "|status| count|\n",
      "+------+------+\n",
      "|   200|254718|\n",
      "|   307| 23184|\n",
      "|   404|   252|\n",
      "+------+------+\n",
      "\n",
      "+--------------------+-----+\n",
      "|           userAgent|count|\n",
      "+--------------------+-----+\n",
      "|\"Mozilla/5.0 (Win...|22751|\n",
      "|\"Mozilla/5.0 (Mac...|19611|\n",
      "|\"Mozilla/5.0 (Mac...|18448|\n",
      "|\"Mozilla/5.0 (Mac...|17348|\n",
      "|Mozilla/5.0 (Wind...|16700|\n",
      "|\"Mozilla/5.0 (Win...|15395|\n",
      "|\"Mozilla/5.0 (Win...|14598|\n",
      "|Mozilla/5.0 (Maci...|10300|\n",
      "|\"Mozilla/5.0 (iPa...| 8912|\n",
      "|Mozilla/5.0 (comp...| 8624|\n",
      "|\"Mozilla/5.0 (Mac...| 8094|\n",
      "|\"Mozilla/5.0 (Win...| 7923|\n",
      "|\"Mozilla/5.0 (Mac...| 7906|\n",
      "|\"Mozilla/5.0 (Win...| 7624|\n",
      "|\"Mozilla/5.0 (iPh...| 6417|\n",
      "|Mozilla/5.0 (Wind...| 5989|\n",
      "|\"Mozilla/5.0 (Mac...| 5716|\n",
      "|\"Mozilla/5.0 (Win...| 5238|\n",
      "|\"Mozilla/5.0 (Win...| 4917|\n",
      "|Mozilla/5.0 (Wind...| 4663|\n",
      "+--------------------+-----+\n",
      "only showing top 20 rows\n",
      "\n"
     ]
    }
   ],
   "source": [
    "#Checking unique values & count of entries for Non-numerical columns of dataset\n",
    "# this is done to understand values present each of Non-numerical columns along with distribution of each of values.\n",
    "for i in ['auth','gender','level','location','method','page','song','status','userAgent']:\n",
    "    (sprkfy_evnt_mn_data.groupBy(i).count().sort('count', ascending=False).show())"
   ]
  },
  {
   "cell_type": "code",
   "execution_count": 14,
   "metadata": {},
   "outputs": [
    {
     "name": "stdout",
     "output_type": "stream",
     "text": [
      "+---------+------+----+\n",
      "|     auth|     0|   1|\n",
      "+---------+------+----+\n",
      "|Cancelled|  null|  52|\n",
      "|Logged In|278102|null|\n",
      "+---------+------+----+\n",
      "\n",
      "+------+------+---+\n",
      "|gender|     0|  1|\n",
      "+------+------+---+\n",
      "|     M|123544| 32|\n",
      "|     F|154558| 20|\n",
      "+------+------+---+\n",
      "\n",
      "+-----+------+---+\n",
      "|level|     0|  1|\n",
      "+-----+------+---+\n",
      "| paid|222402| 31|\n",
      "| free| 55700| 21|\n",
      "+-----+------+---+\n",
      "\n",
      "+--------------------+-----+---+\n",
      "|            location|    0|  1|\n",
      "+--------------------+-----+---+\n",
      "|New York-Newark-J...|23679|  5|\n",
      "|Los Angeles-Long ...|30128|  3|\n",
      "|Miami-Fort Lauder...| 3762|  2|\n",
      "|Spokane-Spokane V...| 3524|  2|\n",
      "|         Jackson, MS| 3837|  2|\n",
      "|Phoenix-Mesa-Scot...| 4844|  2|\n",
      "|Philadelphia-Camd...| 5888|  2|\n",
      "|           Flint, MI|  454|  2|\n",
      "|Birmingham-Hoover...|   74|  1|\n",
      "|  Corpus Christi, TX|   10|  1|\n",
      "|   Memphis, TN-MS-AR|   61|  1|\n",
      "|San Francisco-Oak...| 2646|  1|\n",
      "|New Philadelphia-...| 1780|  1|\n",
      "|Orlando-Kissimmee...| 1497|  1|\n",
      "|Oxnard-Thousand O...|  915|  1|\n",
      "|           Selma, AL| 2026|  1|\n",
      "|Greenville-Anders...|  667|  1|\n",
      "|Indianapolis-Carm...|  969|  1|\n",
      "|    St. Louis, MO-IL| 4857|  1|\n",
      "|          Albany, OR|   22|  1|\n",
      "+--------------------+-----+---+\n",
      "only showing top 20 rows\n",
      "\n",
      "+------+------+----+\n",
      "|method|     0|   1|\n",
      "+------+------+----+\n",
      "|   GET| 20284|  52|\n",
      "|   PUT|257818|null|\n",
      "+------+------+----+\n",
      "\n",
      "+--------------------+------+----+\n",
      "|                page|     0|   1|\n",
      "+--------------------+------+----+\n",
      "|Cancellation Conf...|  null|  52|\n",
      "|              Cancel|    52|null|\n",
      "|    Submit Downgrade|    63|null|\n",
      "|         Thumbs Down|  2546|null|\n",
      "|                Home| 10082|null|\n",
      "|           Downgrade|  2055|null|\n",
      "|         Roll Advert|  3933|null|\n",
      "|              Logout|  3226|null|\n",
      "|       Save Settings|   310|null|\n",
      "|               Error|   252|null|\n",
      "|               About|   495|null|\n",
      "|            Settings|  1514|null|\n",
      "|     Add to Playlist|  6526|null|\n",
      "|          Add Friend|  4277|null|\n",
      "|            NextSong|228108|null|\n",
      "|           Thumbs Up| 12551|null|\n",
      "|                Help|  1454|null|\n",
      "|             Upgrade|   499|null|\n",
      "|      Submit Upgrade|   159|null|\n",
      "+--------------------+------+----+\n",
      "\n",
      "+--------------------+-----+----+\n",
      "|                song|    0|   1|\n",
      "+--------------------+-----+----+\n",
      "|                null|49994|  52|\n",
      "|      Circus Mystery|    3|null|\n",
      "|If I Knew Then (W...|    2|null|\n",
      "|Le Jour S'est Lev...|    7|null|\n",
      "|             Ruta 66|    1|null|\n",
      "|            Press On|    1|null|\n",
      "|           Punkhouse|    1|null|\n",
      "|             Errance|    2|null|\n",
      "|        Checking Out|    1|null|\n",
      "|            Headz Up|    3|null|\n",
      "|               Do It|    7|null|\n",
      "|He\u0019s Alright [Bon...|    1|null|\n",
      "|                   K|    1|null|\n",
      "|   Sex_ Love & Money|   13|null|\n",
      "|   Are U Still Down?|    1|null|\n",
      "|              Breezy|    3|null|\n",
      "|       Mexican Radio|   15|null|\n",
      "|Top Back (Explici...|    2|null|\n",
      "|    Blue Suede Shoes|    3|null|\n",
      "|Is It The Skin I'...|    1|null|\n",
      "+--------------------+-----+----+\n",
      "only showing top 20 rows\n",
      "\n",
      "+------+------+----+\n",
      "|status|     0|   1|\n",
      "+------+------+----+\n",
      "|   200|254666|  52|\n",
      "|   307| 23184|null|\n",
      "|   404|   252|null|\n",
      "+------+------+----+\n",
      "\n",
      "+--------------------+-----+---+\n",
      "|           userAgent|    0|  1|\n",
      "+--------------------+-----+---+\n",
      "|\"Mozilla/5.0 (Mac...|18443|  5|\n",
      "|\"Mozilla/5.0 (Win...|22746|  5|\n",
      "|Mozilla/5.0 (Wind...|16696|  4|\n",
      "|\"Mozilla/5.0 (iPh...| 6413|  4|\n",
      "|\"Mozilla/5.0 (Mac...|19608|  3|\n",
      "|\"Mozilla/5.0 (Mac...| 8091|  3|\n",
      "|Mozilla/5.0 (X11;...| 1871|  3|\n",
      "|\"Mozilla/5.0 (Win...| 7622|  2|\n",
      "|Mozilla/5.0 (Maci...|10298|  2|\n",
      "|\"Mozilla/5.0 (Win...| 4915|  2|\n",
      "|\"Mozilla/5.0 (Win...| 7922|  1|\n",
      "|\"Mozilla/5.0 (Mac...|  186|  1|\n",
      "|\"Mozilla/5.0 (Win...| 2167|  1|\n",
      "|\"Mozilla/5.0 (Win...|14597|  1|\n",
      "|\"Mozilla/5.0 (Mac...| 1261|  1|\n",
      "|Mozilla/5.0 (Maci...| 2441|  1|\n",
      "|Mozilla/5.0 (X11;...|   61|  1|\n",
      "|Mozilla/5.0 (Wind...| 5988|  1|\n",
      "|Mozilla/5.0 (Wind...| 2148|  1|\n",
      "|\"Mozilla/5.0 (Win...|15394|  1|\n",
      "+--------------------+-----+---+\n",
      "only showing top 20 rows\n",
      "\n"
     ]
    }
   ],
   "source": [
    "#Checking distribution of churned userIds within respective Non-numerical columns of dataset\n",
    "for i in ['auth','gender','level','location','method','page','song','status','userAgent']:\n",
    "    sprkfy_evnt_mn_data_lbld.groupBy(i).pivot('churn1').count().sort('1',ascending=False).show()\n",
    "    \n",
    "# with this, we conclude that there isn't any one particular event which is causing a user to churn.\n",
    "# and hence it is essential that we analyze past behavioral trends of users before they churn."
   ]
  },
  {
   "cell_type": "markdown",
   "metadata": {},
   "source": [
    "Shortlisting varibles for further analysis"
   ]
  },
  {
   "cell_type": "code",
   "execution_count": 15,
   "metadata": {},
   "outputs": [],
   "source": [
    "# #dropping following features : \n",
    "# firstName ( user id is present)\n",
    "# lastName ( user id is present)\n",
    "# location\n",
    "# method ( each page type is classified as either PUT or GET)\n",
    "# status ( each page type is classified as one of 3 values of status)\n",
    "\n",
    "#dropping unwanted variables\n",
    "sprkfy_evnt_mn_data_lbld_1 = sprkfy_evnt_mn_data_lbld.drop('firstName','lastName','location','method','status')"
   ]
  },
  {
   "cell_type": "code",
   "execution_count": 16,
   "metadata": {},
   "outputs": [
    {
     "name": "stdout",
     "output_type": "stream",
     "text": [
      "+----------------+---------+------+-------------+---------+-----+--------+-------------+---------+-----------------+-------------+--------------------+------+------+\n",
      "|          artist|     auth|gender|itemInSession|   length|level|    page| registration|sessionId|             song|           ts|           userAgent|userId|churn1|\n",
      "+----------------+---------+------+-------------+---------+-----+--------+-------------+---------+-----------------+-------------+--------------------+------+------+\n",
      "|  Martha Tilston|Logged In|     M|           50|277.89016| paid|NextSong|1538173362000|       29|        Rockpools|1538352117000|Mozilla/5.0 (Wind...|    30|     0|\n",
      "|Five Iron Frenzy|Logged In|     M|           79|236.09424| free|NextSong|1538331630000|        8|           Canada|1538352180000|\"Mozilla/5.0 (Win...|     9|     0|\n",
      "|    Adam Lambert|Logged In|     M|           51| 282.8273| paid|NextSong|1538173362000|       29|Time For Miracles|1538352394000|Mozilla/5.0 (Wind...|    30|     0|\n",
      "+----------------+---------+------+-------------+---------+-----+--------+-------------+---------+-----------------+-------------+--------------------+------+------+\n",
      "only showing top 3 rows\n",
      "\n"
     ]
    }
   ],
   "source": [
    "# Checking dataset entries after dropping few columns\n",
    "sprkfy_evnt_mn_data_lbld_1.show(3)"
   ]
  },
  {
   "cell_type": "code",
   "execution_count": 17,
   "metadata": {},
   "outputs": [],
   "source": [
    "# Creating a flag (\"phase\"),which will indicate if a particular event is of a churned or non-churned user\n",
    "wndw = Window.partitionBy(\"userId\").orderBy(desc(\"ts\")).rangeBetween(Window.unboundedPreceding, 0)\n",
    "sprkfy_evnt_mn_data_lbld_2 = sprkfy_evnt_mn_data_lbld_1.withColumn(\"phase\",Fsum(\"churn1\").over(wndw)).sort(\"ts\")\n"
   ]
  },
  {
   "cell_type": "code",
   "execution_count": 18,
   "metadata": {},
   "outputs": [
    {
     "name": "stdout",
     "output_type": "stream",
     "text": [
      "+---------+------+-----+--------------+\n",
      "|     auth|     0|    1|share_of_churn|\n",
      "+---------+------+-----+--------------+\n",
      "|Logged In|233290|44812|            16|\n",
      "|Cancelled|  null|   52|          null|\n",
      "+---------+------+-----+--------------+\n",
      "\n",
      "+------+------+-----+--------------+\n",
      "|gender|     0|    1|share_of_churn|\n",
      "+------+------+-----+--------------+\n",
      "|     M| 97880|25696|            20|\n",
      "|     F|135410|19168|            12|\n",
      "+------+------+-----+--------------+\n",
      "\n",
      "+-----+------+-----+--------------+\n",
      "|level|     0|    1|share_of_churn|\n",
      "+-----+------+-----+--------------+\n",
      "| free| 43333|12388|            22|\n",
      "| paid|189957|32476|            14|\n",
      "+-----+------+-----+--------------+\n",
      "\n",
      "+--------------------+------+-----+--------------+\n",
      "|                page|     0|    1|share_of_churn|\n",
      "+--------------------+------+-----+--------------+\n",
      "|         Roll Advert|  2966|  967|            24|\n",
      "|             Upgrade|   387|  112|            22|\n",
      "|      Submit Upgrade|   127|   32|            20|\n",
      "|         Thumbs Down|  2050|  496|            19|\n",
      "|       Save Settings|   252|   58|            18|\n",
      "|            Settings|  1244|  270|            17|\n",
      "|              Logout|  2673|  553|            17|\n",
      "|                Help|  1215|  239|            16|\n",
      "|           Downgrade|  1718|  337|            16|\n",
      "|                Home|  8410| 1672|            16|\n",
      "|     Add to Playlist|  5488| 1038|            15|\n",
      "|            NextSong|191714|36394|            15|\n",
      "|          Add Friend|  3641|  636|            14|\n",
      "|           Thumbs Up| 10692| 1859|            14|\n",
      "|    Submit Downgrade|    54|    9|            14|\n",
      "|               Error|   220|   32|            12|\n",
      "|               About|   439|   56|            11|\n",
      "|              Cancel|  null|   52|          null|\n",
      "|Cancellation Conf...|  null|   52|          null|\n",
      "+--------------------+------+-----+--------------+\n",
      "\n",
      "+--------------------+---+---+--------------+\n",
      "|                song|  0|  1|share_of_churn|\n",
      "+--------------------+---+---+--------------+\n",
      "|Spilt Needles (Al...|  1|  5|            83|\n",
      "|Temple Of Love (1...|  1|  4|            80|\n",
      "|Love Makes The Wo...|  1|  4|            80|\n",
      "|        In Search Of|  1|  4|            80|\n",
      "|            EMOTIONS|  1|  4|            80|\n",
      "|          AhÃÂ­ voy|  1|  3|            75|\n",
      "|          Tumbleweed|  1|  3|            75|\n",
      "|       Into The Dark|  1|  3|            75|\n",
      "|Careful What You ...|  1|  3|            75|\n",
      "|                 Beg|  1|  3|            75|\n",
      "|          What To Do|  1|  3|            75|\n",
      "|     Black Girl Pain|  1|  3|            75|\n",
      "|        CompaÃÂ±era|  1|  3|            75|\n",
      "|             Funk 42|  1|  3|            75|\n",
      "|Tides (C's Moveme...|  1|  3|            75|\n",
      "|               Blast|  1|  3|            75|\n",
      "|     La Media Vuelta|  1|  3|            75|\n",
      "|     Seventy Times 7|  1|  3|            75|\n",
      "|       Eye Conqueror|  1|  3|            75|\n",
      "|             Volvere|  1|  3|            75|\n",
      "+--------------------+---+---+--------------+\n",
      "only showing top 20 rows\n",
      "\n",
      "+--------------------+-----+----+--------------+\n",
      "|           userAgent|    0|   1|share_of_churn|\n",
      "+--------------------+-----+----+--------------+\n",
      "|Mozilla/5.0 (Wind...|  218|3437|            94|\n",
      "|Mozilla/5.0 (X11;...|  317|1557|            83|\n",
      "|\"Mozilla/5.0 (Mac...|  740|2064|            73|\n",
      "|Mozilla/5.0 (Maci...|  940|1502|            61|\n",
      "|\"Mozilla/5.0 (Mac...|  639| 623|            49|\n",
      "|Mozilla/5.0 (Wind...| 2882|1781|            38|\n",
      "|\"Mozilla/5.0 (Win...| 5553|2071|            27|\n",
      "|\"Mozilla/5.0 (Mac...|14875|4736|            24|\n",
      "|Mozilla/5.0 (Maci...| 7838|2462|            23|\n",
      "|\"Mozilla/5.0 (Mac...| 6165|1929|            23|\n",
      "|\"Mozilla/5.0 (Win...|18226|4525|            19|\n",
      "|\"Mozilla/5.0 (Win...| 3985| 932|            18|\n",
      "|Mozilla/5.0 (Wind...| 4925|1064|            17|\n",
      "|\"Mozilla/5.0 (Win...| 6531|1392|            17|\n",
      "|\"Mozilla/5.0 (Win...| 3432| 671|            16|\n",
      "|\"Mozilla/5.0 (iPh...| 5407|1010|            15|\n",
      "|\"Mozilla/5.0 (Mac...|15914|2534|            13|\n",
      "|\"Mozilla/5.0 (Win...|12823|1775|            12|\n",
      "|\"Mozilla/5.0 (X11...| 1496| 143|             8|\n",
      "|Mozilla/5.0 (Wind...|15224|1476|             8|\n",
      "+--------------------+-----+----+--------------+\n",
      "only showing top 20 rows\n",
      "\n"
     ]
    }
   ],
   "source": [
    "# checking split between churn Vs non-churn user events for each of values Within non-numric columns\n",
    "# share of churn-user-events vs total would give insight into possibly imporant feature values while predicting churn\n",
    "for i in ['auth','gender','level','page','song','userAgent']:\n",
    "    temp = sprkfy_evnt_mn_data_lbld_2.groupBy(i).pivot(\"phase\").count()\n",
    "    temp.withColumn(\"share_of_churn\",(F.col(\"1\")/(F.col(\"0\")+F.col(\"1\"))*100).cast('integer')).sort(\"share_of_churn\",ascending = False).show()\n"
   ]
  },
  {
   "cell_type": "markdown",
   "metadata": {},
   "source": [
    "Analysing EDA so far we  get an insight that column \"Page\" and events associated with are among crucial feature while predicting Churn"
   ]
  },
  {
   "cell_type": "code",
   "execution_count": 19,
   "metadata": {},
   "outputs": [],
   "source": [
    "# creating pivot table of page event to visualize trends\n",
    "user_pg = sprkfy_evnt_mn_data_lbld_2.groupBy(['userId']).pivot('page').count().fillna(0)\n",
    "df_user_pg = user_pg.toPandas()\n",
    "\n",
    "df_user_pg = df_user_pg.rename(columns={\"Cancellation Confirmation\": \"Churn\"})\n",
    "df_user_pg['Churn'] = df_user_pg['Churn'].replace({1: \"Churn\", 0: \"No-Churn\"})"
   ]
  },
  {
   "cell_type": "code",
   "execution_count": 20,
   "metadata": {},
   "outputs": [
    {
     "data": {
      "text/html": [
       "<div>\n",
       "<style scoped>\n",
       "    .dataframe tbody tr th:only-of-type {\n",
       "        vertical-align: middle;\n",
       "    }\n",
       "\n",
       "    .dataframe tbody tr th {\n",
       "        vertical-align: top;\n",
       "    }\n",
       "\n",
       "    .dataframe thead th {\n",
       "        text-align: right;\n",
       "    }\n",
       "</style>\n",
       "<table border=\"1\" class=\"dataframe\">\n",
       "  <thead>\n",
       "    <tr style=\"text-align: right;\">\n",
       "      <th></th>\n",
       "      <th>userId</th>\n",
       "      <th>About</th>\n",
       "      <th>Add Friend</th>\n",
       "      <th>Add to Playlist</th>\n",
       "      <th>Cancel</th>\n",
       "      <th>Churn</th>\n",
       "      <th>Downgrade</th>\n",
       "      <th>Error</th>\n",
       "      <th>Help</th>\n",
       "      <th>Home</th>\n",
       "      <th>Logout</th>\n",
       "      <th>NextSong</th>\n",
       "      <th>Roll Advert</th>\n",
       "      <th>Save Settings</th>\n",
       "      <th>Settings</th>\n",
       "      <th>Submit Downgrade</th>\n",
       "      <th>Submit Upgrade</th>\n",
       "      <th>Thumbs Down</th>\n",
       "      <th>Thumbs Up</th>\n",
       "      <th>Upgrade</th>\n",
       "    </tr>\n",
       "  </thead>\n",
       "  <tbody>\n",
       "    <tr>\n",
       "      <th>0</th>\n",
       "      <td>200002</td>\n",
       "      <td>3</td>\n",
       "      <td>4</td>\n",
       "      <td>8</td>\n",
       "      <td>0</td>\n",
       "      <td>No-Churn</td>\n",
       "      <td>5</td>\n",
       "      <td>0</td>\n",
       "      <td>2</td>\n",
       "      <td>20</td>\n",
       "      <td>5</td>\n",
       "      <td>387</td>\n",
       "      <td>7</td>\n",
       "      <td>0</td>\n",
       "      <td>3</td>\n",
       "      <td>0</td>\n",
       "      <td>1</td>\n",
       "      <td>6</td>\n",
       "      <td>21</td>\n",
       "      <td>2</td>\n",
       "    </tr>\n",
       "    <tr>\n",
       "      <th>1</th>\n",
       "      <td>100010</td>\n",
       "      <td>1</td>\n",
       "      <td>4</td>\n",
       "      <td>7</td>\n",
       "      <td>0</td>\n",
       "      <td>No-Churn</td>\n",
       "      <td>0</td>\n",
       "      <td>0</td>\n",
       "      <td>2</td>\n",
       "      <td>11</td>\n",
       "      <td>5</td>\n",
       "      <td>275</td>\n",
       "      <td>52</td>\n",
       "      <td>0</td>\n",
       "      <td>0</td>\n",
       "      <td>0</td>\n",
       "      <td>0</td>\n",
       "      <td>5</td>\n",
       "      <td>17</td>\n",
       "      <td>2</td>\n",
       "    </tr>\n",
       "    <tr>\n",
       "      <th>2</th>\n",
       "      <td>125</td>\n",
       "      <td>0</td>\n",
       "      <td>0</td>\n",
       "      <td>0</td>\n",
       "      <td>1</td>\n",
       "      <td>Churn</td>\n",
       "      <td>0</td>\n",
       "      <td>0</td>\n",
       "      <td>0</td>\n",
       "      <td>0</td>\n",
       "      <td>0</td>\n",
       "      <td>8</td>\n",
       "      <td>1</td>\n",
       "      <td>0</td>\n",
       "      <td>0</td>\n",
       "      <td>0</td>\n",
       "      <td>0</td>\n",
       "      <td>0</td>\n",
       "      <td>0</td>\n",
       "      <td>0</td>\n",
       "    </tr>\n",
       "  </tbody>\n",
       "</table>\n",
       "</div>"
      ],
      "text/plain": [
       "   userId  About  Add Friend  Add to Playlist  Cancel     Churn  Downgrade  \\\n",
       "0  200002      3           4                8       0  No-Churn          5   \n",
       "1  100010      1           4                7       0  No-Churn          0   \n",
       "2     125      0           0                0       1     Churn          0   \n",
       "\n",
       "   Error  Help  Home  Logout  NextSong  Roll Advert  Save Settings  Settings  \\\n",
       "0      0     2    20       5       387            7              0         3   \n",
       "1      0     2    11       5       275           52              0         0   \n",
       "2      0     0     0       0         8            1              0         0   \n",
       "\n",
       "   Submit Downgrade  Submit Upgrade  Thumbs Down  Thumbs Up  Upgrade  \n",
       "0                 0               1            6         21        2  \n",
       "1                 0               0            5         17        2  \n",
       "2                 0               0            0          0        0  "
      ]
     },
     "execution_count": 20,
     "metadata": {},
     "output_type": "execute_result"
    }
   ],
   "source": [
    "# quick look at pivoted dataset\n",
    "df_user_pg.head(3)"
   ]
  },
  {
   "cell_type": "code",
   "execution_count": 21,
   "metadata": {},
   "outputs": [
    {
     "data": {
      "text/plain": [
       "<matplotlib.figure.Figure at 0x7f69869c0828>"
      ]
     },
     "metadata": {},
     "output_type": "display_data"
    },
    {
     "data": {
      "image/png": "[encoded data removed]",
      "text/plain": [
       "<matplotlib.figure.Figure at 0x7f69869ca5f8>"
      ]
     },
     "metadata": {
      "needs_background": "light"
     },
     "output_type": "display_data"
    }
   ],
   "source": [
    "# Visualizing distribution of page events between Churn and No-churn users\n",
    "\n",
    "page_events_pd = pd.melt(\n",
    "    df_user_pg, id_vars=['userId', 'Churn'], \n",
    "    value_vars=list(df_user_pg.columns[1:].drop('Churn')),\n",
    "    var_name='page', \n",
    "    value_name='number_visits'\n",
    ").reset_index()\n",
    "\n",
    "fig = plt.figure(figsize=(10, 6))\n",
    "sns.factorplot(x=\"page\", y=\"number_visits\", hue=\"Churn\", data=page_events_pd,\n",
    "               kind=\"bar\", aspect=3, legend=False, log=True,saturation=.5,palette=\"Set1\");\n",
    "plt.xticks(rotation=45, ha='right', fontsize=14)\n",
    "plt.yticks(fontsize=12)\n",
    "plt.xlabel(\"Page event\", fontsize=12)\n",
    "plt.ylabel(\"page visits count\", fontsize=12)\n",
    "plt.title(\"Churn<>No-Churn: Page visit comparison\", fontsize=12)\n",
    "plt.legend(loc='best', fontsize=12);"
   ]
  },
  {
   "cell_type": "code",
   "execution_count": 22,
   "metadata": {},
   "outputs": [
    {
     "data": {
      "text/plain": [
       "<matplotlib.figure.Figure at 0x7f698483eeb8>"
      ]
     },
     "metadata": {},
     "output_type": "display_data"
    },
    {
     "data": {
      "image/png": "[encoded data removed]",
      "text/plain": [
       "<matplotlib.figure.Figure at 0x7f6984032ba8>"
      ]
     },
     "metadata": {
      "needs_background": "light"
     },
     "output_type": "display_data"
    }
   ],
   "source": [
    "# Visualizing distribution of page_events_fraction between Churn and No-churn users\n",
    "\n",
    "event_cols = [coln for coln in df_user_pg.columns[1:] if coln != 'Churn']\n",
    "df_user_pg['total'] = df_user_pg[event_cols].sum(axis=1)\n",
    "for coln in event_cols:\n",
    "    df_user_pg[coln] = df_user_pg[coln] / df_user_pg['total']\n",
    "\n",
    "page_events_frac_pd = pd.melt(\n",
    "    df_user_pg, id_vars=['userId', 'Churn'], \n",
    "    value_vars=event_cols,\n",
    "    var_name='page', \n",
    "    value_name='frac_visits'\n",
    ").reset_index()\n",
    "\n",
    "fig = plt.figure(figsize=(10, 6))\n",
    "sns.factorplot(x=\"page\", y=\"frac_visits\", hue=\"Churn\", data=page_events_frac_pd,\n",
    "               kind=\"bar\", aspect=3, legend=False, log=True,palette=\"Set2\");\n",
    "plt.xticks(rotation=45, ha='right', fontsize=12)\n",
    "plt.yticks(fontsize=12)\n",
    "plt.xlabel(\"Page event\", fontsize=12)\n",
    "plt.ylabel(\"page visits fraction\", fontsize=12)\n",
    "plt.title(\"Churn<>No-Churn: page visits fraction\", fontsize=12)\n",
    "plt.legend(loc='best', fontsize=12);"
   ]
  },
  {
   "cell_type": "code",
   "execution_count": 23,
   "metadata": {},
   "outputs": [],
   "source": [
    "# Creating a local temporary view of working dataset\n",
    "# This is done so as to create different feaures in next section\n",
    "sprkfy_evnt_mn_data_lbld_2.createOrReplaceTempView(\"sprkfy_data_table1\")"
   ]
  },
  {
   "cell_type": "markdown",
   "metadata": {},
   "source": [
    "# Feature Engineering\n",
    "Once you've familiarized yourself with the data, build out the features you find promising to train your model on. To work with the full dataset, you can follow the following steps.\n",
    "- Write a script to extract the necessary features from the smaller subset of data\n",
    "- Ensure that your script is scalable, using the best practices discussed in Lesson 3\n",
    "- Try your script on the full data set, debugging your script if necessary\n",
    "\n",
    "If you are working in the classroom workspace, you can just extract features based on the small subset of data contained here. Be sure to transfer over this work to the larger dataset when you work on your Spark cluster."
   ]
  },
  {
   "cell_type": "code",
   "execution_count": 24,
   "metadata": {},
   "outputs": [],
   "source": [
    "#creating list of users along with their \"churn flag\" ( phase )\n",
    "usr_list = sprkfy_evnt_mn_data_lbld_2.select(['userId','phase']).dropDuplicates()"
   ]
  },
  {
   "cell_type": "code",
   "execution_count": 25,
   "metadata": {},
   "outputs": [
    {
     "data": {
      "text/plain": [
       "225"
      ]
     },
     "execution_count": 25,
     "metadata": {},
     "output_type": "execute_result"
    }
   ],
   "source": [
    "# quick look at count of userIds\n",
    "usr_list.count()"
   ]
  },
  {
   "cell_type": "markdown",
   "metadata": {},
   "source": [
    "Basis EDA performed between Churned and non-churned users, we are going to create following feaures for each of userIDs\n",
    "\n",
    "1. avg_songs_per_session : how many songs a user plays on average in session \n",
    "2. avg_time_per_session : how much average time does a user spend on sparkify in each session\n",
    "\n",
    "\n",
    "( Above 2 indicate engagement level of user )\n",
    "\n",
    "3. days_since_regi : total days since user has been registered with sparkify\n",
    "4. sess_cnt : total sessions which a user had with sparkify since registration\n",
    "5. song_cnt : total songs which a user has played with sparkify since registration\n",
    "6. art_cnt : total artists which a user has listened to with sparkify since registration \n",
    "\n",
    "\n",
    "(Above 4 features indicate key stats of user with sparkify since registration)\n",
    "\n",
    "For following set of page events we create 2 features each for each of userIds ( total count of that page-event and total count of that page-event as a fraction of total-page-events )\n",
    "\n",
    "\n",
    "7. Roll Advert\n",
    "8. Thumbs Down\n",
    "9. Thumbs Up\n",
    "10. Settings \n",
    "11. NextSong \n",
    "12. Add Friend\n",
    "13. About\n",
    "14. Save Settings \n",
    "15. Add to Playlist\n",
    "16. Help\n",
    "17. Home\n",
    "18. Submit Downgrade\n",
    "19. Error\n",
    "\n",
    "\n",
    "we also create a feature \"pg_up_dwn_ratio\" which compates total thumbs_up as a ratio of total thumbs_down"
   ]
  },
  {
   "cell_type": "code",
   "execution_count": 26,
   "metadata": {},
   "outputs": [],
   "source": [
    "#creating features, related to imp stats of per_sessions_avg for each of user\n",
    "session_stat = spark.sql(\n",
    "    '''\n",
    "    SELECT userId,\n",
    "    AVG(num_songs) avg_songs_per_session, \n",
    "    AVG(time) avg_time_per_session\n",
    "    FROM\n",
    "        (SELECT userId, sessionId, (MAX(ts) - MIN(ts))/1000 AS time, COUNT(song) num_songs\n",
    "        FROM sprkfy_data_table1\n",
    "        GROUP BY userId, sessionId) session_stat\n",
    "    GROUP BY userId\n",
    "    '''\n",
    ").fillna(0)"
   ]
  },
  {
   "cell_type": "code",
   "execution_count": 27,
   "metadata": {},
   "outputs": [
    {
     "name": "stdout",
     "output_type": "stream",
     "text": [
      "+------+---------------------+--------------------+\n",
      "|userId|avg_songs_per_session|avg_time_per_session|\n",
      "+------+---------------------+--------------------+\n",
      "|100010|   39.285714285714285|              9269.0|\n",
      "|200002|                 64.5|             15984.0|\n",
      "|   125|                  8.0|              1774.0|\n",
      "|    51|                211.1|             52341.4|\n",
      "|   124|    140.6551724137931|   34739.65517241379|\n",
      "|     7|   21.428571428571427|   5258.428571428572|\n",
      "|    54|    76.78378378378379|   19337.37837837838|\n",
      "|    15|                127.6|             31697.0|\n",
      "|   155|   136.66666666666666|  32914.333333333336|\n",
      "|100014|   42.833333333333336|  11088.833333333334|\n",
      "|   132|                120.5|          29937.0625|\n",
      "|   154|                 28.0|              6641.0|\n",
      "|   101|                179.7|             49054.8|\n",
      "|    11|              40.4375|            9682.625|\n",
      "|300017|    57.65079365079365|  13999.444444444445|\n",
      "+------+---------------------+--------------------+\n",
      "only showing top 15 rows\n",
      "\n"
     ]
    }
   ],
   "source": [
    "session_stat.show(15)"
   ]
  },
  {
   "cell_type": "code",
   "execution_count": 28,
   "metadata": {},
   "outputs": [
    {
     "name": "stdout",
     "output_type": "stream",
     "text": [
      "2018-11-27 07:21:17\n",
      "2018-09-30 18:20:30\n",
      "60\n"
     ]
    }
   ],
   "source": [
    "# check code check to identify difference between two timestamps in terms of \"no of days\" \n",
    "\n",
    "print(datetime.datetime.fromtimestamp(1543303277000/1000))\n",
    "print(datetime.datetime.fromtimestamp(1538331630000/1000))\n",
    "\n",
    "# # getting difference in timestamps wrt DAYS\n",
    "print((((datetime.date.fromtimestamp(1543303237000/1000))-(datetime.date.fromtimestamp(1538173362000/1000)))).days)"
   ]
  },
  {
   "cell_type": "code",
   "execution_count": 29,
   "metadata": {},
   "outputs": [],
   "source": [
    "# creating imp features ( decided basis EDA done earlier) related to count & frequency of pages visited by each of user\n",
    "pg_visit_details = spark.sql (\n",
    "    '''\n",
    "    SELECT userId,\n",
    "    (MAX(ts) - AVG(registration)) / 86400000 as days_since_regi,\n",
    "    \n",
    "    COUNT(DISTINCT sessionId) as sess_cnt,\n",
    "    COUNT(DISTINCT song) as song_cnt,\n",
    "    COUNT(DISTINCT artist) as art_cnt,\n",
    "    \n",
    "    COUNT(page) as total_pg,\n",
    "    COUNT(CASE WHEN page = 'Roll Advert' THEN 1 ELSE NULL END) as pg_adv_cnt,\n",
    "    COUNT(CASE WHEN page = 'Roll Advert' THEN 1 ELSE NULL END)/COUNT(page)*100 as pg_adv_cnt_frac,\n",
    "    \n",
    "    COUNT(CASE WHEN page = 'Thumbs Down' THEN 1 ELSE NULL END) as thmb_dwn_cnt,\n",
    "    COUNT(CASE WHEN page = 'Thumbs Down' THEN 1 ELSE NULL END)/COUNT(page)*100 as thmb_dwn_cnt_frac,\n",
    "    \n",
    "    COUNT(CASE WHEN page = 'Thumbs Up' THEN 1 ELSE NULL END) as thmb_up_cnt,\n",
    "    COUNT(CASE WHEN page = 'Thumbs Up' THEN 1 ELSE NULL END)/COUNT(page)*100 as thmb_up_cnt_frac,\n",
    "    \n",
    "    COUNT(CASE WHEN page = 'Settings' THEN 1 ELSE NULL END) as setng_cnt,\n",
    "    COUNT(CASE WHEN page = 'Settings' THEN 1 ELSE NULL END)/COUNT(page)*100 as setng_frac,\n",
    "    \n",
    "    COUNT(CASE WHEN page = 'NextSong' THEN 1 ELSE NULL END) as nxt_sng_cnt,\n",
    "    COUNT(CASE WHEN page = 'NextSong' THEN 1 ELSE NULL END)/COUNT(page)*100 as nxt_sng_frac,\n",
    "    \n",
    "    COUNT(CASE WHEN page = 'Add Friend' THEN 1 ELSE NULL END) as add_frnd_cnt,\n",
    "    COUNT(CASE WHEN page = 'Add Friend' THEN 1 ELSE NULL END)/COUNT(page)*100 as add_frnd_frac,\n",
    "    \n",
    "    COUNT(CASE WHEN page = 'About' THEN 1 ELSE NULL END) as About_cnt,\n",
    "    COUNT(CASE WHEN page = 'About' THEN 1 ELSE NULL END)/COUNT(page)*100 as About_frac,\n",
    "    \n",
    "    COUNT(CASE WHEN page = 'Save Settings' THEN 1 ELSE NULL END) as save_setng_cnt,\n",
    "    COUNT(CASE WHEN page = 'Save Settings' THEN 1 ELSE NULL END)/COUNT(page)*100 as save_setng_frac,\n",
    "    \n",
    "    COUNT(CASE WHEN page = 'Add to Playlist' THEN 1 ELSE NULL END) as add_2_plylst_cnt,\n",
    "    COUNT(CASE WHEN page = 'Add to Playlist' THEN 1 ELSE NULL END)/COUNT(page)*100 as add_2_plylst_frac,\n",
    "    \n",
    "    COUNT(CASE WHEN page = 'Help' THEN 1 ELSE NULL END) as help_cnt,\n",
    "    COUNT(CASE WHEN page = 'Help' THEN 1 ELSE NULL END)/COUNT(page)*100 as help_frac,\n",
    "    \n",
    "    COUNT(CASE WHEN page = 'Home' THEN 1 ELSE NULL END) as home_cnt,\n",
    "    COUNT(CASE WHEN page = 'Home' THEN 1 ELSE NULL END)/COUNT(page)*100 as home_frac,\n",
    "    \n",
    "    COUNT(CASE WHEN page = 'Submit Downgrade' THEN 1 ELSE NULL END) as sbmt_dwngrd_cnt,\n",
    "    COUNT(CASE WHEN page = 'Submit Downgrade' THEN 1 ELSE NULL END)/COUNT(page)*100 as sbmt_dwngrd_frac,\n",
    "    \n",
    "    COUNT(CASE WHEN page = 'Error' THEN 1 ELSE NULL END) as error_cnt,\n",
    "    COUNT(CASE WHEN page = 'Error' THEN 1 ELSE NULL END)/COUNT(page)*100 as error_frac,\n",
    "    \n",
    "    COUNT(CASE WHEN page = 'Thumbs Up' THEN 1 ELSE NULL END)*100/(COUNT(CASE WHEN page = 'Thumbs Down' THEN 1 ELSE NULL END)+0.01) as pg_up_dwn_ratio\n",
    "    \n",
    "    \n",
    "    FROM sprkfy_data_table1\n",
    "    GROUP BY userId\n",
    "    ''').fillna(0)"
   ]
  },
  {
   "cell_type": "code",
   "execution_count": 30,
   "metadata": {},
   "outputs": [
    {
     "data": {
      "text/plain": [
       "225"
      ]
     },
     "execution_count": 30,
     "metadata": {},
     "output_type": "execute_result"
    }
   ],
   "source": [
    "session_stat.count()"
   ]
  },
  {
   "cell_type": "code",
   "execution_count": 31,
   "metadata": {},
   "outputs": [
    {
     "data": {
      "text/plain": [
       "225"
      ]
     },
     "execution_count": 31,
     "metadata": {},
     "output_type": "execute_result"
    }
   ],
   "source": [
    "pg_visit_details.count()"
   ]
  },
  {
   "cell_type": "code",
   "execution_count": 32,
   "metadata": {},
   "outputs": [],
   "source": [
    "# joining all the features together to create a dataset which would be used for modelling ! \n",
    "featr_data = usr_list.join(pg_visit_details,['userId']).join(session_stat,'userId')"
   ]
  },
  {
   "cell_type": "code",
   "execution_count": 33,
   "metadata": {},
   "outputs": [
    {
     "name": "stdout",
     "output_type": "stream",
     "text": [
      "0 missing value present !\n"
     ]
    }
   ],
   "source": [
    "# Rename churn column into label\n",
    "dataset1 = featr_data.withColumn('label', featr_data['phase'].cast('float')).drop('phase')\n",
    "dataset = dataset1.fillna(0)\n",
    "\n",
    "# converting Feature columns into vector\n",
    "feature_cols = dataset.drop('label').drop('userId').columns\n",
    "\n",
    "# Confirming absence of  missing values in working dataset\n",
    "featr_data_pd = dataset.toPandas()\n",
    "missing_value_count = featr_data_pd.isnull().sum().sum()\n",
    "print(f\"{missing_value_count} missing value present !\")\n"
   ]
  },
  {
   "cell_type": "code",
   "execution_count": 34,
   "metadata": {},
   "outputs": [
    {
     "data": {
      "text/plain": [
       "['days_since_regi',\n",
       " 'sess_cnt',\n",
       " 'song_cnt',\n",
       " 'art_cnt',\n",
       " 'total_pg',\n",
       " 'pg_adv_cnt',\n",
       " 'pg_adv_cnt_frac',\n",
       " 'thmb_dwn_cnt',\n",
       " 'thmb_dwn_cnt_frac',\n",
       " 'thmb_up_cnt',\n",
       " 'thmb_up_cnt_frac',\n",
       " 'setng_cnt',\n",
       " 'setng_frac',\n",
       " 'nxt_sng_cnt',\n",
       " 'nxt_sng_frac',\n",
       " 'add_frnd_cnt',\n",
       " 'add_frnd_frac',\n",
       " 'About_cnt',\n",
       " 'About_frac',\n",
       " 'save_setng_cnt',\n",
       " 'save_setng_frac',\n",
       " 'add_2_plylst_cnt',\n",
       " 'add_2_plylst_frac',\n",
       " 'help_cnt',\n",
       " 'help_frac',\n",
       " 'home_cnt',\n",
       " 'home_frac',\n",
       " 'sbmt_dwngrd_cnt',\n",
       " 'sbmt_dwngrd_frac',\n",
       " 'error_cnt',\n",
       " 'error_frac',\n",
       " 'pg_up_dwn_ratio',\n",
       " 'avg_songs_per_session',\n",
       " 'avg_time_per_session']"
      ]
     },
     "execution_count": 34,
     "metadata": {},
     "output_type": "execute_result"
    }
   ],
   "source": [
    "# Quick look to check if feature columns are unchanged \n",
    "feature_cols"
   ]
  },
  {
   "cell_type": "markdown",
   "metadata": {},
   "source": [
    "# Modeling\n",
    "Split the full dataset into train, test, and validation sets. Test out several of the machine learning methods you learned. Evaluate the accuracy of the various models, tuning parameters as necessary. Determine your winning model based on test accuracy and report results on the validation set. Since the churned users are a fairly small subset, I suggest using F1 score as the metric to optimize."
   ]
  },
  {
   "cell_type": "code",
   "execution_count": 35,
   "metadata": {},
   "outputs": [],
   "source": [
    "# creating Training and Test datasets\n",
    "assembler = VectorAssembler(inputCols=feature_cols, outputCol=\"features\")\n",
    "final_dataset = assembler.transform(dataset)\n",
    "\n",
    "# Train-test split\n",
    "train, test = final_dataset.drop('userId').randomSplit([0.8, 0.2], seed=42)"
   ]
  },
  {
   "cell_type": "code",
   "execution_count": 36,
   "metadata": {},
   "outputs": [
    {
     "name": "stdout",
     "output_type": "stream",
     "text": [
      "Count of churned users in Train data set:  42\n",
      "Count of churned users in Test data set:  10\n"
     ]
    }
   ],
   "source": [
    "print(\"Count of churned users in Train data set: \",train.where(train.label == 1 ).count())\n",
    "print(\"Count of churned users in Test data set: \",test.where(test.label == 1 ).count())"
   ]
  },
  {
   "cell_type": "markdown",
   "metadata": {},
   "source": [
    "##### We will try following 3 models with Cross Validation tuning.\n",
    "##### And we will use F1 score as the metric to compare model performances\n",
    "##### F1-score is chosen since there are only small subset users ( out of total users) who have churned\n",
    "##### 1. Logistic Regression\n",
    "##### 2. Random Forests\n",
    "##### 3. Gradient-Boosted Trees (GBTs)"
   ]
  },
  {
   "cell_type": "markdown",
   "metadata": {},
   "source": [
    "#### Start : Logistic Regression model evaluation"
   ]
  },
  {
   "cell_type": "code",
   "execution_count": 37,
   "metadata": {},
   "outputs": [
    {
     "name": "stdout",
     "output_type": "stream",
     "text": [
      "Model training Start\n",
      "Model training complete\n"
     ]
    }
   ],
   "source": [
    "lr = LogisticRegression(featuresCol = 'features', labelCol = 'label') # defining a LR model\n",
    "\n",
    "evaluator = MulticlassClassificationEvaluator(predictionCol=\"prediction\", labelCol=\"label\")\n",
    "\n",
    "# Create ParamGrid for Cross Validation tuning\n",
    "    #ideally, i wanted to use multiple values in paramGrid but whenever I tried doing this, \n",
    "    #kernel was taking a long time to run and finally getting disconnected without completing training.\n",
    "    #Hence, currently paramGrid is prepared with very limited values\n",
    "paramGrid = (ParamGridBuilder()\n",
    "         .addGrid(lr.regParam, [0.0])\n",
    "         .addGrid(lr.elasticNetParam, [0.0])\n",
    "         .build())\n",
    "\n",
    "# Create CrossValidator\n",
    "    #Again, while trying higher number in CV - \n",
    "    #kernel was taking a long time to run and finally getting disconnected without completing training.\n",
    "    #Hence, currently CV is run with small value.\n",
    "    #When running in AWS , we can use 5 fold CV\n",
    "cv = CrossValidator(estimator=lr, estimatorParamMaps=paramGrid,\n",
    "                    evaluator=evaluator, numFolds=2, parallelism=3)\n",
    "\n",
    "# Run cross validations\n",
    "print(\"Model training Start\")\n",
    "cvModel = cv.fit(train)\n",
    "print(\"Model training complete\")"
   ]
  },
  {
   "cell_type": "code",
   "execution_count": 38,
   "metadata": {},
   "outputs": [
    {
     "name": "stdout",
     "output_type": "stream",
     "text": [
      "F1 score for best LR model :  0.6804298642533937\n",
      "Intercept for best LR model :  1.6394057772056865\n",
      "Param (regParam) for best LR model:  0.0\n",
      "Param (elasticNetParam) for best LR model:  0.0\n"
     ]
    }
   ],
   "source": [
    "# Use test set to measure the accuracy of our model on new data\n",
    "predictions = cvModel.transform(test)\n",
    "print('F1 score for best LR model : ',(evaluator.evaluate(predictions)))\n",
    "\n",
    "# Print best model info\n",
    "print('Intercept for best LR model : ', cvModel.bestModel.intercept)\n",
    "print('Param (regParam) for best LR model: ', cvModel.bestModel._java_obj.getRegParam())\n",
    "print('Param (elasticNetParam) for best LR model: ', cvModel.bestModel._java_obj.getElasticNetParam())\n"
   ]
  },
  {
   "cell_type": "code",
   "execution_count": 40,
   "metadata": {},
   "outputs": [
    {
     "name": "stdout",
     "output_type": "stream",
     "text": [
      "LogisticRegression Model Performance Summary:\n",
      "+---------+------+------+--------+\n",
      "|precision|recall|    f1|accuracy|\n",
      "+---------+------+------+--------+\n",
      "|   0.6765|0.7059|0.6804|  0.7059|\n",
      "+---------+------+------+--------+\n",
      "\n"
     ]
    }
   ],
   "source": [
    "# Printing additional performance metrics ( precision, recall, accuracy) of CV shortlisted model\n",
    "pred = predictions\n",
    "evalMetrics = {}\n",
    "evalMetrics[\"precision\"] = evaluator.evaluate(pred, {evaluator.metricName: \"weightedPrecision\"})\n",
    "evalMetrics[\"recall\"] = evaluator.evaluate(pred, {evaluator.metricName: \"weightedRecall\"})\n",
    "evalMetrics[\"f1\"] = evaluator.evaluate(pred, {evaluator.metricName: \"f1\"})\n",
    "evalMetrics[\"accuracy\"] = evaluator.evaluate(pred, {evaluator.metricName: \"accuracy\"})\n",
    "evalMetrics['confusion_matrix'] = pred.groupby(\"label\").pivot(\"prediction\").count()\n",
    "\n",
    "# Show metrics\n",
    "print('LogisticRegression Model Performance Summary:')\n",
    "metrics_to_display = {k:round(v, 4) for k,v in evalMetrics.items() if k != 'confusion_matrix'}\n",
    "spark.createDataFrame(pd.DataFrame([metrics_to_display], columns=metrics_to_display.keys())).show()"
   ]
  },
  {
   "cell_type": "markdown",
   "metadata": {},
   "source": [
    "#### END : Logistic Regression Evaluation"
   ]
  },
  {
   "cell_type": "markdown",
   "metadata": {},
   "source": [
    "#### START: Random Forest model evaluation"
   ]
  },
  {
   "cell_type": "code",
   "execution_count": 41,
   "metadata": {},
   "outputs": [
    {
     "name": "stdout",
     "output_type": "stream",
     "text": [
      "Model training Start\n",
      "Model training complete\n"
     ]
    }
   ],
   "source": [
    "rf = RandomForestClassifier(labelCol=\"label\", featuresCol=\"features\")\n",
    "\n",
    "evaluator = MulticlassClassificationEvaluator(predictionCol=\"prediction\", labelCol=\"label\")\n",
    "\n",
    "# Create ParamGrid for Cross Validation tuning\n",
    "    #ideally, i wanted to use multiple values in paramGrid but whenever I tried doing this, \n",
    "    #kernel was taking a long time to run and finally getting disconnected without completing training.\n",
    "    #Hence, currently paramGrid is prepared with very limited values\n",
    "paramGrid = (ParamGridBuilder()\n",
    "         .addGrid(rf.maxDepth, [5])\n",
    "         .addGrid(rf.maxBins, [32])\n",
    "         .build())\n",
    "\n",
    "# Create CrossValidator\n",
    "    #Again, while trying higher number in CV - \n",
    "    #kernel was taking a long time to run and finally getting disconnected without completing training.\n",
    "    #Hence, currently CV is run with small value.\n",
    "    #When running in AWS , we can use 5 fold CV\n",
    "cv = CrossValidator(estimator=rf, estimatorParamMaps=paramGrid,\n",
    "                    evaluator=evaluator, numFolds=2, parallelism=3)\n",
    "\n",
    "# Run cross validations\n",
    "print(\"Model training Start\")\n",
    "# Run cross validations\n",
    "cvModel = cv.fit(train)\n",
    "print(\"Model training complete\")"
   ]
  },
  {
   "cell_type": "code",
   "execution_count": 42,
   "metadata": {},
   "outputs": [
    {
     "name": "stdout",
     "output_type": "stream",
     "text": [
      "F1 score for best RF model:  0.7197231833910035\n",
      "Param (maxDepth) for best RF model:  5\n",
      "Param (maxBins) for best RF model:  32\n"
     ]
    }
   ],
   "source": [
    "# Use test set to measure the accuracy of our model on new data\n",
    "predictions = cvModel.transform(test)\n",
    "print('F1 score for best RF model: ', (evaluator.evaluate(predictions)))\n",
    "\n",
    "# Print best model info\n",
    "print('Param (maxDepth) for best RF model: ', cvModel.bestModel._java_obj.getMaxDepth())\n",
    "print('Param (maxBins) for best RF model: ', cvModel.bestModel._java_obj.getMaxBins())"
   ]
  },
  {
   "cell_type": "code",
   "execution_count": 43,
   "metadata": {},
   "outputs": [
    {
     "name": "stdout",
     "output_type": "stream",
     "text": [
      "Random Forest Model Performance Summary:\n",
      "+---------+------+------+--------+\n",
      "|precision|recall|    f1|accuracy|\n",
      "+---------+------+------+--------+\n",
      "|   0.7171|0.7353|0.7197|  0.7353|\n",
      "+---------+------+------+--------+\n",
      "\n"
     ]
    }
   ],
   "source": [
    "# Printing additional performance metrics ( precision, recall, accuracy) of CV shortlisted model\n",
    "pred = predictions\n",
    "evalMetrics = {}\n",
    "evalMetrics[\"precision\"] = evaluator.evaluate(pred, {evaluator.metricName: \"weightedPrecision\"})\n",
    "evalMetrics[\"recall\"] = evaluator.evaluate(pred, {evaluator.metricName: \"weightedRecall\"})\n",
    "evalMetrics[\"f1\"] = evaluator.evaluate(pred, {evaluator.metricName: \"f1\"})\n",
    "evalMetrics[\"accuracy\"] = evaluator.evaluate(pred, {evaluator.metricName: \"accuracy\"})\n",
    "evalMetrics['confusion_matrix'] = pred.groupby(\"label\").pivot(\"prediction\").count()\n",
    "\n",
    "# Show metrics\n",
    "print('Random Forest Model Performance Summary:')\n",
    "metrics_to_display = {k:round(v, 4) for k,v in evalMetrics.items() if k != 'confusion_matrix'}\n",
    "spark.createDataFrame(pd.DataFrame([metrics_to_display], columns=metrics_to_display.keys())).show()"
   ]
  },
  {
   "cell_type": "code",
   "execution_count": 44,
   "metadata": {},
   "outputs": [],
   "source": [
    "# Checking feature importances \n",
    "feature_ind = cvModel.bestModel.featureImportances.indices.tolist()\n",
    "feature_name = [feature_cols[ind] for ind in feature_ind]\n",
    "feature_coef = cvModel.bestModel.featureImportances.values.tolist()\n",
    "\n",
    "feature_coef_df = pd.DataFrame(list(zip(feature_name, feature_coef)), columns=['Feature', 'Coefficient'])\\\n",
    "    .sort_values('Coefficient', ascending=False)"
   ]
  },
  {
   "cell_type": "code",
   "execution_count": 45,
   "metadata": {},
   "outputs": [
    {
     "data": {
      "text/html": [
       "<div>\n",
       "<style scoped>\n",
       "    .dataframe tbody tr th:only-of-type {\n",
       "        vertical-align: middle;\n",
       "    }\n",
       "\n",
       "    .dataframe tbody tr th {\n",
       "        vertical-align: top;\n",
       "    }\n",
       "\n",
       "    .dataframe thead th {\n",
       "        text-align: right;\n",
       "    }\n",
       "</style>\n",
       "<table border=\"1\" class=\"dataframe\">\n",
       "  <thead>\n",
       "    <tr style=\"text-align: right;\">\n",
       "      <th></th>\n",
       "      <th>Feature</th>\n",
       "      <th>Coefficient</th>\n",
       "    </tr>\n",
       "  </thead>\n",
       "  <tbody>\n",
       "    <tr>\n",
       "      <th>0</th>\n",
       "      <td>days_since_regi</td>\n",
       "      <td>0.146146</td>\n",
       "    </tr>\n",
       "    <tr>\n",
       "      <th>30</th>\n",
       "      <td>pg_up_dwn_ratio</td>\n",
       "      <td>0.096094</td>\n",
       "    </tr>\n",
       "    <tr>\n",
       "      <th>8</th>\n",
       "      <td>thmb_dwn_cnt_frac</td>\n",
       "      <td>0.065777</td>\n",
       "    </tr>\n",
       "    <tr>\n",
       "      <th>21</th>\n",
       "      <td>add_2_plylst_cnt</td>\n",
       "      <td>0.048660</td>\n",
       "    </tr>\n",
       "    <tr>\n",
       "      <th>2</th>\n",
       "      <td>song_cnt</td>\n",
       "      <td>0.042617</td>\n",
       "    </tr>\n",
       "    <tr>\n",
       "      <th>32</th>\n",
       "      <td>avg_time_per_session</td>\n",
       "      <td>0.042201</td>\n",
       "    </tr>\n",
       "    <tr>\n",
       "      <th>14</th>\n",
       "      <td>nxt_sng_frac</td>\n",
       "      <td>0.041370</td>\n",
       "    </tr>\n",
       "    <tr>\n",
       "      <th>16</th>\n",
       "      <td>add_frnd_frac</td>\n",
       "      <td>0.041102</td>\n",
       "    </tr>\n",
       "    <tr>\n",
       "      <th>7</th>\n",
       "      <td>thmb_dwn_cnt</td>\n",
       "      <td>0.039096</td>\n",
       "    </tr>\n",
       "    <tr>\n",
       "      <th>25</th>\n",
       "      <td>home_cnt</td>\n",
       "      <td>0.035148</td>\n",
       "    </tr>\n",
       "    <tr>\n",
       "      <th>15</th>\n",
       "      <td>add_frnd_cnt</td>\n",
       "      <td>0.034897</td>\n",
       "    </tr>\n",
       "    <tr>\n",
       "      <th>10</th>\n",
       "      <td>thmb_up_cnt_frac</td>\n",
       "      <td>0.033181</td>\n",
       "    </tr>\n",
       "    <tr>\n",
       "      <th>1</th>\n",
       "      <td>sess_cnt</td>\n",
       "      <td>0.027867</td>\n",
       "    </tr>\n",
       "    <tr>\n",
       "      <th>9</th>\n",
       "      <td>thmb_up_cnt</td>\n",
       "      <td>0.026638</td>\n",
       "    </tr>\n",
       "    <tr>\n",
       "      <th>20</th>\n",
       "      <td>save_setng_frac</td>\n",
       "      <td>0.025971</td>\n",
       "    </tr>\n",
       "    <tr>\n",
       "      <th>18</th>\n",
       "      <td>About_frac</td>\n",
       "      <td>0.023606</td>\n",
       "    </tr>\n",
       "    <tr>\n",
       "      <th>6</th>\n",
       "      <td>pg_adv_cnt_frac</td>\n",
       "      <td>0.022691</td>\n",
       "    </tr>\n",
       "    <tr>\n",
       "      <th>24</th>\n",
       "      <td>help_frac</td>\n",
       "      <td>0.022660</td>\n",
       "    </tr>\n",
       "    <tr>\n",
       "      <th>17</th>\n",
       "      <td>About_cnt</td>\n",
       "      <td>0.022638</td>\n",
       "    </tr>\n",
       "    <tr>\n",
       "      <th>26</th>\n",
       "      <td>home_frac</td>\n",
       "      <td>0.019944</td>\n",
       "    </tr>\n",
       "    <tr>\n",
       "      <th>31</th>\n",
       "      <td>avg_songs_per_session</td>\n",
       "      <td>0.019847</td>\n",
       "    </tr>\n",
       "    <tr>\n",
       "      <th>22</th>\n",
       "      <td>add_2_plylst_frac</td>\n",
       "      <td>0.017091</td>\n",
       "    </tr>\n",
       "    <tr>\n",
       "      <th>28</th>\n",
       "      <td>error_cnt</td>\n",
       "      <td>0.015669</td>\n",
       "    </tr>\n",
       "    <tr>\n",
       "      <th>12</th>\n",
       "      <td>setng_frac</td>\n",
       "      <td>0.015063</td>\n",
       "    </tr>\n",
       "    <tr>\n",
       "      <th>3</th>\n",
       "      <td>art_cnt</td>\n",
       "      <td>0.012201</td>\n",
       "    </tr>\n",
       "    <tr>\n",
       "      <th>5</th>\n",
       "      <td>pg_adv_cnt</td>\n",
       "      <td>0.012177</td>\n",
       "    </tr>\n",
       "    <tr>\n",
       "      <th>29</th>\n",
       "      <td>error_frac</td>\n",
       "      <td>0.011857</td>\n",
       "    </tr>\n",
       "    <tr>\n",
       "      <th>11</th>\n",
       "      <td>setng_cnt</td>\n",
       "      <td>0.010827</td>\n",
       "    </tr>\n",
       "    <tr>\n",
       "      <th>4</th>\n",
       "      <td>total_pg</td>\n",
       "      <td>0.010734</td>\n",
       "    </tr>\n",
       "    <tr>\n",
       "      <th>19</th>\n",
       "      <td>save_setng_cnt</td>\n",
       "      <td>0.006470</td>\n",
       "    </tr>\n",
       "    <tr>\n",
       "      <th>23</th>\n",
       "      <td>help_cnt</td>\n",
       "      <td>0.004654</td>\n",
       "    </tr>\n",
       "    <tr>\n",
       "      <th>27</th>\n",
       "      <td>sbmt_dwngrd_frac</td>\n",
       "      <td>0.002765</td>\n",
       "    </tr>\n",
       "    <tr>\n",
       "      <th>13</th>\n",
       "      <td>nxt_sng_cnt</td>\n",
       "      <td>0.002343</td>\n",
       "    </tr>\n",
       "  </tbody>\n",
       "</table>\n",
       "</div>"
      ],
      "text/plain": [
       "                  Feature  Coefficient\n",
       "0         days_since_regi     0.146146\n",
       "30        pg_up_dwn_ratio     0.096094\n",
       "8       thmb_dwn_cnt_frac     0.065777\n",
       "21       add_2_plylst_cnt     0.048660\n",
       "2                song_cnt     0.042617\n",
       "32   avg_time_per_session     0.042201\n",
       "14           nxt_sng_frac     0.041370\n",
       "16          add_frnd_frac     0.041102\n",
       "7            thmb_dwn_cnt     0.039096\n",
       "25               home_cnt     0.035148\n",
       "15           add_frnd_cnt     0.034897\n",
       "10       thmb_up_cnt_frac     0.033181\n",
       "1                sess_cnt     0.027867\n",
       "9             thmb_up_cnt     0.026638\n",
       "20        save_setng_frac     0.025971\n",
       "18             About_frac     0.023606\n",
       "6         pg_adv_cnt_frac     0.022691\n",
       "24              help_frac     0.022660\n",
       "17              About_cnt     0.022638\n",
       "26              home_frac     0.019944\n",
       "31  avg_songs_per_session     0.019847\n",
       "22      add_2_plylst_frac     0.017091\n",
       "28              error_cnt     0.015669\n",
       "12             setng_frac     0.015063\n",
       "3                 art_cnt     0.012201\n",
       "5              pg_adv_cnt     0.012177\n",
       "29             error_frac     0.011857\n",
       "11              setng_cnt     0.010827\n",
       "4                total_pg     0.010734\n",
       "19         save_setng_cnt     0.006470\n",
       "23               help_cnt     0.004654\n",
       "27       sbmt_dwngrd_frac     0.002765\n",
       "13            nxt_sng_cnt     0.002343"
      ]
     },
     "execution_count": 45,
     "metadata": {},
     "output_type": "execute_result"
    }
   ],
   "source": [
    "# displaying features in descending order of feature_importance\n",
    "feature_coef_df"
   ]
  },
  {
   "cell_type": "markdown",
   "metadata": {},
   "source": [
    "#### END : RF model evaluation"
   ]
  },
  {
   "cell_type": "markdown",
   "metadata": {},
   "source": [
    "#### Start : Gradient-Boosted Trees (GBTs) model evaluation"
   ]
  },
  {
   "cell_type": "code",
   "execution_count": 46,
   "metadata": {},
   "outputs": [],
   "source": [
    "gbt = GBTClassifier(labelCol=\"label\", featuresCol=\"features\")"
   ]
  },
  {
   "cell_type": "code",
   "execution_count": 47,
   "metadata": {},
   "outputs": [
    {
     "name": "stdout",
     "output_type": "stream",
     "text": [
      "Model training Start\n",
      "Model training complete\n"
     ]
    }
   ],
   "source": [
    "evaluator = MulticlassClassificationEvaluator(predictionCol=\"prediction\", labelCol=\"label\")\n",
    "\n",
    "# Create ParamGrid for Cross Validation tuning\n",
    "    #ideally, i wanted to use multiple values in paramGrid but whenever I tried doing this, \n",
    "    #kernel was taking a long time to run and finally getting disconnected without completing training.\n",
    "    #Hence, currently paramGrid is prepared with very limited values\n",
    "paramGrid = (ParamGridBuilder()\n",
    "         .addGrid(gbt.maxDepth, [5])\n",
    "         .build())\n",
    "\n",
    "# Create CrossValidator\n",
    "    #Again, while trying higher number in CV - \n",
    "    #kernel was taking a long time to run and finally getting disconnected without completing training.\n",
    "    #Hence, currently CV is run with small value.\n",
    "    #When running in AWS , we can use 5 fold CV\n",
    "cv = CrossValidator(estimator=gbt, estimatorParamMaps=paramGrid,\n",
    "                    evaluator=evaluator, numFolds=2, parallelism=3)\n",
    "\n",
    "print(\"Model training Start\")\n",
    "# Run cross validations\n",
    "cvModel = cv.fit(train)\n",
    "print(\"Model training complete\")"
   ]
  },
  {
   "cell_type": "code",
   "execution_count": 48,
   "metadata": {},
   "outputs": [
    {
     "name": "stdout",
     "output_type": "stream",
     "text": [
      "F1 score for best GBT model: 0.7702859800046501\n",
      "Param (maxDepth) for best GBT model:  5\n"
     ]
    }
   ],
   "source": [
    "# Use test set to measure the accuracy of our model on new data\n",
    "predictions = cvModel.transform(test)\n",
    "\n",
    "print('F1 score for best GBT model: ' + str(evaluator.evaluate(predictions)))\n",
    "\n",
    "# Print best model info\n",
    "print('Param (maxDepth) for best GBT model: ', cvModel.bestModel._java_obj.getMaxDepth())\n"
   ]
  },
  {
   "cell_type": "code",
   "execution_count": 49,
   "metadata": {},
   "outputs": [
    {
     "name": "stdout",
     "output_type": "stream",
     "text": [
      "Gradient-Boosted Trees (GBT) Model Performance Summary:\n",
      "+---------+------+------+--------+\n",
      "|precision|recall|    f1|accuracy|\n",
      "+---------+------+------+--------+\n",
      "|   0.7812|0.7647|0.7703|  0.7647|\n",
      "+---------+------+------+--------+\n",
      "\n"
     ]
    }
   ],
   "source": [
    "# Printing additional performance metrics ( precision, recall, accuracy) of CV shortlisted model\n",
    "\n",
    "pred = predictions\n",
    "evalMetrics = {}\n",
    "evalMetrics[\"precision\"] = evaluator.evaluate(pred, {evaluator.metricName: \"weightedPrecision\"})\n",
    "evalMetrics[\"recall\"] = evaluator.evaluate(pred, {evaluator.metricName: \"weightedRecall\"})\n",
    "evalMetrics[\"f1\"] = evaluator.evaluate(pred, {evaluator.metricName: \"f1\"})\n",
    "evalMetrics[\"accuracy\"] = evaluator.evaluate(pred, {evaluator.metricName: \"accuracy\"})\n",
    "evalMetrics['confusion_matrix'] = pred.groupby(\"label\").pivot(\"prediction\").count()\n",
    "\n",
    "# Show metrics\n",
    "print('Gradient-Boosted Trees (GBT) Model Performance Summary:')\n",
    "metrics_to_display = {k:round(v, 4) for k,v in evalMetrics.items() if k != 'confusion_matrix'}\n",
    "spark.createDataFrame(pd.DataFrame([metrics_to_display], columns=metrics_to_display.keys())).show()"
   ]
  },
  {
   "cell_type": "code",
   "execution_count": 50,
   "metadata": {},
   "outputs": [],
   "source": [
    "# Checking feature importances \n",
    "feature_ind = cvModel.bestModel.featureImportances.indices.tolist()\n",
    "feature_name = [feature_cols[ind] for ind in feature_ind]\n",
    "feature_coef = cvModel.bestModel.featureImportances.values.tolist()\n",
    "\n",
    "feature_coef_df = pd.DataFrame(list(zip(feature_name, feature_coef)), columns=['Feature', 'Coefficient'])\\\n",
    "    .sort_values('Coefficient', ascending=False)"
   ]
  },
  {
   "cell_type": "code",
   "execution_count": 51,
   "metadata": {},
   "outputs": [
    {
     "data": {
      "text/html": [
       "<div>\n",
       "<style scoped>\n",
       "    .dataframe tbody tr th:only-of-type {\n",
       "        vertical-align: middle;\n",
       "    }\n",
       "\n",
       "    .dataframe tbody tr th {\n",
       "        vertical-align: top;\n",
       "    }\n",
       "\n",
       "    .dataframe thead th {\n",
       "        text-align: right;\n",
       "    }\n",
       "</style>\n",
       "<table border=\"1\" class=\"dataframe\">\n",
       "  <thead>\n",
       "    <tr style=\"text-align: right;\">\n",
       "      <th></th>\n",
       "      <th>Feature</th>\n",
       "      <th>Coefficient</th>\n",
       "    </tr>\n",
       "  </thead>\n",
       "  <tbody>\n",
       "    <tr>\n",
       "      <th>0</th>\n",
       "      <td>days_since_regi</td>\n",
       "      <td>0.196987</td>\n",
       "    </tr>\n",
       "    <tr>\n",
       "      <th>13</th>\n",
       "      <td>nxt_sng_frac</td>\n",
       "      <td>0.082518</td>\n",
       "    </tr>\n",
       "    <tr>\n",
       "      <th>18</th>\n",
       "      <td>save_setng_frac</td>\n",
       "      <td>0.081703</td>\n",
       "    </tr>\n",
       "    <tr>\n",
       "      <th>26</th>\n",
       "      <td>pg_up_dwn_ratio</td>\n",
       "      <td>0.079484</td>\n",
       "    </tr>\n",
       "    <tr>\n",
       "      <th>9</th>\n",
       "      <td>thmb_up_cnt_frac</td>\n",
       "      <td>0.060454</td>\n",
       "    </tr>\n",
       "    <tr>\n",
       "      <th>4</th>\n",
       "      <td>pg_adv_cnt</td>\n",
       "      <td>0.058005</td>\n",
       "    </tr>\n",
       "    <tr>\n",
       "      <th>19</th>\n",
       "      <td>add_2_plylst_cnt</td>\n",
       "      <td>0.053129</td>\n",
       "    </tr>\n",
       "    <tr>\n",
       "      <th>21</th>\n",
       "      <td>help_frac</td>\n",
       "      <td>0.050893</td>\n",
       "    </tr>\n",
       "    <tr>\n",
       "      <th>23</th>\n",
       "      <td>home_frac</td>\n",
       "      <td>0.049541</td>\n",
       "    </tr>\n",
       "    <tr>\n",
       "      <th>11</th>\n",
       "      <td>setng_frac</td>\n",
       "      <td>0.041232</td>\n",
       "    </tr>\n",
       "    <tr>\n",
       "      <th>5</th>\n",
       "      <td>pg_adv_cnt_frac</td>\n",
       "      <td>0.040491</td>\n",
       "    </tr>\n",
       "    <tr>\n",
       "      <th>16</th>\n",
       "      <td>About_cnt</td>\n",
       "      <td>0.030619</td>\n",
       "    </tr>\n",
       "    <tr>\n",
       "      <th>15</th>\n",
       "      <td>add_frnd_frac</td>\n",
       "      <td>0.030215</td>\n",
       "    </tr>\n",
       "    <tr>\n",
       "      <th>6</th>\n",
       "      <td>thmb_dwn_cnt</td>\n",
       "      <td>0.026070</td>\n",
       "    </tr>\n",
       "    <tr>\n",
       "      <th>2</th>\n",
       "      <td>song_cnt</td>\n",
       "      <td>0.021414</td>\n",
       "    </tr>\n",
       "    <tr>\n",
       "      <th>28</th>\n",
       "      <td>avg_time_per_session</td>\n",
       "      <td>0.017680</td>\n",
       "    </tr>\n",
       "    <tr>\n",
       "      <th>7</th>\n",
       "      <td>thmb_dwn_cnt_frac</td>\n",
       "      <td>0.014473</td>\n",
       "    </tr>\n",
       "    <tr>\n",
       "      <th>27</th>\n",
       "      <td>avg_songs_per_session</td>\n",
       "      <td>0.012842</td>\n",
       "    </tr>\n",
       "    <tr>\n",
       "      <th>14</th>\n",
       "      <td>add_frnd_cnt</td>\n",
       "      <td>0.012228</td>\n",
       "    </tr>\n",
       "    <tr>\n",
       "      <th>20</th>\n",
       "      <td>add_2_plylst_frac</td>\n",
       "      <td>0.011188</td>\n",
       "    </tr>\n",
       "    <tr>\n",
       "      <th>22</th>\n",
       "      <td>home_cnt</td>\n",
       "      <td>0.008538</td>\n",
       "    </tr>\n",
       "    <tr>\n",
       "      <th>3</th>\n",
       "      <td>art_cnt</td>\n",
       "      <td>0.006276</td>\n",
       "    </tr>\n",
       "    <tr>\n",
       "      <th>25</th>\n",
       "      <td>error_frac</td>\n",
       "      <td>0.003904</td>\n",
       "    </tr>\n",
       "    <tr>\n",
       "      <th>17</th>\n",
       "      <td>About_frac</td>\n",
       "      <td>0.003395</td>\n",
       "    </tr>\n",
       "    <tr>\n",
       "      <th>10</th>\n",
       "      <td>setng_cnt</td>\n",
       "      <td>0.002749</td>\n",
       "    </tr>\n",
       "    <tr>\n",
       "      <th>24</th>\n",
       "      <td>error_cnt</td>\n",
       "      <td>0.001782</td>\n",
       "    </tr>\n",
       "    <tr>\n",
       "      <th>1</th>\n",
       "      <td>sess_cnt</td>\n",
       "      <td>0.001536</td>\n",
       "    </tr>\n",
       "    <tr>\n",
       "      <th>8</th>\n",
       "      <td>thmb_up_cnt</td>\n",
       "      <td>0.000645</td>\n",
       "    </tr>\n",
       "    <tr>\n",
       "      <th>12</th>\n",
       "      <td>nxt_sng_cnt</td>\n",
       "      <td>0.000008</td>\n",
       "    </tr>\n",
       "  </tbody>\n",
       "</table>\n",
       "</div>"
      ],
      "text/plain": [
       "                  Feature  Coefficient\n",
       "0         days_since_regi     0.196987\n",
       "13           nxt_sng_frac     0.082518\n",
       "18        save_setng_frac     0.081703\n",
       "26        pg_up_dwn_ratio     0.079484\n",
       "9        thmb_up_cnt_frac     0.060454\n",
       "4              pg_adv_cnt     0.058005\n",
       "19       add_2_plylst_cnt     0.053129\n",
       "21              help_frac     0.050893\n",
       "23              home_frac     0.049541\n",
       "11             setng_frac     0.041232\n",
       "5         pg_adv_cnt_frac     0.040491\n",
       "16              About_cnt     0.030619\n",
       "15          add_frnd_frac     0.030215\n",
       "6            thmb_dwn_cnt     0.026070\n",
       "2                song_cnt     0.021414\n",
       "28   avg_time_per_session     0.017680\n",
       "7       thmb_dwn_cnt_frac     0.014473\n",
       "27  avg_songs_per_session     0.012842\n",
       "14           add_frnd_cnt     0.012228\n",
       "20      add_2_plylst_frac     0.011188\n",
       "22               home_cnt     0.008538\n",
       "3                 art_cnt     0.006276\n",
       "25             error_frac     0.003904\n",
       "17             About_frac     0.003395\n",
       "10              setng_cnt     0.002749\n",
       "24              error_cnt     0.001782\n",
       "1                sess_cnt     0.001536\n",
       "8             thmb_up_cnt     0.000645\n",
       "12            nxt_sng_cnt     0.000008"
      ]
     },
     "execution_count": 51,
     "metadata": {},
     "output_type": "execute_result"
    }
   ],
   "source": [
    "# displaying features in descending order of feature_importance\n",
    "feature_coef_df"
   ]
  },
  {
   "cell_type": "markdown",
   "metadata": {},
   "source": [
    "#### END : Gradient-Boosted Trees (GBTs) model evaluation"
   ]
  },
  {
   "cell_type": "markdown",
   "metadata": {},
   "source": [
    "## Conclusion\n",
    "\n",
    "As we compare results from 3 different models we understand that, both Random Forest as well as GBT models perform quite better than Logistic model when using F1-score for model performance evaluation. And GBT performing even slightly better than Random Forest model.\n",
    "\n",
    "Considering the fact that we are able to get a considerably good f1-score with mini-dataset, we can expect to  improve on model performance even further when we train and test model on entire dataset in either AWS. \n",
    "\n",
    "Basis this, we choose GBT as final model to scale with full dataset. \n",
    "Another added advantage with GBT ( and even Random Forest ) is that it also gives us feature importance of each of attributes in predicting customer churn.\n",
    "\n",
    "\n",
    "\n",
    "##### Follwing was one of very interesting aspect of this project  : \n",
    "\n",
    "The process with which we prepared final dataset (from original data dump of events data) which we used for training and testing model was unlike typical approach where we would usually have one single entry for each of userId. \n",
    "With sparkify data we had a log of all events of each of users with multiple entries for each of users.\n",
    "This made understanding of data as well as identification of possibly important features, a challenging and interesting task of this project.\n",
    "\n",
    "Another interesting aspect of this using pySpark was usage of SQL syntax within python in feature engineering steps which proved a very useful functionality for someone like me who is a frequent SQL user."
   ]
  },
  {
   "cell_type": "markdown",
   "metadata": {},
   "source": [
    "### Improvement"
   ]
  },
  {
   "cell_type": "markdown",
   "metadata": {},
   "source": [
    "One top of mind possible improvement can be predicting \"churn\" within pre-defined time frame in future.\n",
    "\n",
    "Currently, we are predicting if a user will Churn or not without specifying a time-window for a possible churn.\n",
    "If we are able to predict a churn by associating it with time window then this would prove even more useful with respect to practical use-case.\n",
    "\n",
    "\n",
    "In this revised scenario though, we might not be able to use current features as it is and we might have to identify few more features or modified way of defining features so that \"churn\" can be predicted by associating it with time-window"
   ]
  }
 ],
 "metadata": {
  "kernelspec": {
   "display_name": "Python 3",
   "language": "python",
   "name": "python3"
  },
  "language_info": {
   "codemirror_mode": {
    "name": "ipython",
    "version": 3
   },
   "file_extension": ".py",
   "mimetype": "text/x-python",
   "name": "python",
   "nbconvert_exporter": "python",
   "pygments_lexer": "ipython3",
   "version": "3.6.3"
  }
 },
 "nbformat": 4,
 "nbformat_minor": 2
}
